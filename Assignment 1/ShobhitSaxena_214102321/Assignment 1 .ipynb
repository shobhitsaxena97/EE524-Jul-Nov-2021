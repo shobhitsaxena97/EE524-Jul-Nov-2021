{
 "cells": [
  {
   "cell_type": "code",
   "execution_count": 1,
   "metadata": {},
   "outputs": [
    {
     "name": "stdout",
     "output_type": "stream",
     "text": [
      "Hello World\n"
     ]
    }
   ],
   "source": [
    "print(\"Hello World\") #we use quotes within print statement to get the desired output"
   ]
  },
  {
   "cell_type": "code",
   "execution_count": 2,
   "metadata": {},
   "outputs": [
    {
     "name": "stdout",
     "output_type": "stream",
     "text": [
      "First Number is 2\n",
      "Second Number is 4\n",
      "Sum of two Numbers are  6\n",
      "Diff of two Numbers are  -2\n",
      "Product of two Numbers are  8\n",
      "Division of two Numbers are  0.5\n"
     ]
    }
   ],
   "source": [
    "a=int(input(\"First Number is \")) #we treat a and b as an integers\n",
    "b=int(input(\"Second Number is \")) \n",
    "c=a+b\n",
    "print(\"Sum of two Numbers are \",c) #it gives the sum of two numbers as the output\n",
    "d=a-b\n",
    "print(\"Diff of two Numbers are \",d) #it gives the diff of two numbers as the output\n",
    "e=a*b\n",
    "print(\"Product of two Numbers are \",e) #it gives the multiplication of two numbers as the output\n",
    "f=a/b\n",
    "print(\"Division of two Numbers are \",f) #it gives the division of two numbers as the output"
   ]
  },
  {
   "cell_type": "code",
   "execution_count": 3,
   "metadata": {},
   "outputs": [
    {
     "name": "stdout",
     "output_type": "stream",
     "text": [
      "The factorial of the number is 720\n"
     ]
    }
   ],
   "source": [
    "#In this ques, we are going to find the factorial as we know 6!= 6*5*4*3*2*1 =720.\n",
    "num=6 #here we take num as 6 or we can take any value instead of 6\n",
    "fact=1\n",
    "i=1\n",
    "while i<=6: #while is used to take values of i from 1 to 6.  \n",
    "    fact=fact*i\n",
    "    i=i+1    #increment i from 1 to 6\n",
    "print(\"The factorial of the number is\",fact)"
   ]
  },
  {
   "cell_type": "code",
   "execution_count": 4,
   "metadata": {},
   "outputs": [
    {
     "name": "stdout",
     "output_type": "stream",
     "text": [
      "Prime numbers between 100 and 200 are:\n",
      "101\n",
      "103\n",
      "107\n",
      "109\n",
      "113\n",
      "127\n",
      "131\n",
      "137\n",
      "139\n",
      "149\n",
      "151\n",
      "157\n",
      "163\n",
      "167\n",
      "173\n",
      "179\n",
      "181\n",
      "191\n",
      "193\n",
      "197\n",
      "199\n"
     ]
    }
   ],
   "source": [
    "#we take 2 inputs as 100 and 200. we can change the inputs as per our need.\n",
    "starting = 100\n",
    "last= 200\n",
    "print(\"Prime numbers between\", starting, \"and\", last, \"are:\")\n",
    "for i in range(starting,last+1):\n",
    "   # all prime numbers are greater than 1\n",
    "   if i > 1:\n",
    "       for j in range(2, i):\n",
    "           if (i % j) == 0:\n",
    "               break\n",
    "       else:\n",
    "           print(i)"
   ]
  },
  {
   "cell_type": "code",
   "execution_count": 5,
   "metadata": {},
   "outputs": [
    {
     "name": "stdout",
     "output_type": "stream",
     "text": [
      "3\n",
      "5\n",
      "LCM of the number is  15\n"
     ]
    }
   ],
   "source": [
    "num1 = int(input())\n",
    "num2 = int(input())\n",
    "if(num1 > num2 ):   # Use If condition to find the greatest number among these two.\n",
    "    max= num1\n",
    "else:\n",
    "    max= num2\n",
    "while(True):\n",
    "    if(max % num1 == 0 and max % num2 == 0):   \n",
    "        print(\"LCM of the number is \",max)\n",
    "        break;\n",
    "    max= max+ 1"
   ]
  },
  {
   "cell_type": "code",
   "execution_count": 6,
   "metadata": {},
   "outputs": [
    {
     "name": "stdout",
     "output_type": "stream",
     "text": [
      "Main Array Elements: \n",
      "4\n",
      "6\n",
      "7\n",
      "8\n",
      "1\n",
      "2\n",
      "3\n",
      "5\n",
      "9\n",
      "12\n",
      "11\n",
      "10\n",
      "15\n",
      "14\n",
      "13\n",
      "\n",
      "Elements of array in descending order: \n",
      "15\n",
      "14\n",
      "13\n",
      "12\n",
      "11\n",
      "10\n",
      "9\n",
      "8\n",
      "7\n",
      "6\n",
      "5\n",
      "4\n",
      "3\n",
      "2\n",
      "1\n"
     ]
    }
   ],
   "source": [
    "#Initialize array     \n",
    "array = [4,6,7,8,1,2,3,5,9,12,11,10,15,14,13];     \n",
    "k = 0;    \n",
    "     \n",
    "#Displaying elements of Main Array    \n",
    "print(\"Main Array Elements: \");    \n",
    "for i in range(0, len(array)):     \n",
    "    print(array[i]),    \n",
    "     \n",
    "#Sort the array in descending order    \n",
    "for i in range(0, len(array)):    \n",
    "    for j in range(i+1, len(array)):    \n",
    "        if(array[i] < array[j]):    \n",
    "            k = array[i];    \n",
    "            array[i] = array[j];    \n",
    "            array[j] = k;    \n",
    "     \n",
    "print();    \n",
    "     \n",
    "#Display elements of array after sorting    \n",
    "print(\"Elements of array in descending order: \");    \n",
    "for i in range(0, len(array)):     \n",
    "    print(array[i])"
   ]
  },
  {
   "cell_type": "code",
   "execution_count": 7,
   "metadata": {},
   "outputs": [
    {
     "name": "stdout",
     "output_type": "stream",
     "text": [
      "Sorted array in ascending order:  [ 1  2  3  4  5  6  7  8  9 10 11 12 13 14 15]\n"
     ]
    }
   ],
   "source": [
    "import numpy as np\n",
    "a1= np.array([2,1,4,3,6,5,7,9,8,11,13,15,10,12,14])\n",
    "# Sort in ascending order\n",
    "k= np.sort(a1)\n",
    "print(\"Sorted array in ascending order: \",k)"
   ]
  },
  {
   "cell_type": "code",
   "execution_count": 8,
   "metadata": {},
   "outputs": [
    {
     "data": {
      "text/plain": [
       "array([[-3,  0, -1, -1],\n",
       "       [ 1, -3, -1, -4],\n",
       "       [-3, -5,  0, -2]])"
      ]
     },
     "execution_count": 8,
     "metadata": {},
     "output_type": "execute_result"
    }
   ],
   "source": [
    "import numpy as np\n",
    "m=3 #user input\n",
    "n=4 #user input\n",
    "np.random.randint(-5, 2,(3,4)) #used to take random no. from -5 to 2 of 3 rows and 4 columns"
   ]
  },
  {
   "cell_type": "code",
   "execution_count": 9,
   "metadata": {},
   "outputs": [
    {
     "name": "stdout",
     "output_type": "stream",
     "text": [
      "A matrix is  [[12, 7, 3], [4, 5, 6]]\n",
      "B matrix is  [[5, 8, 5, 4], [6, 7, 8, 4], [4, 5, 2, 8]]\n",
      "Matrix Multiplication is \n",
      "[114, 160, 122, 100]\n",
      "[74, 97, 72, 84]\n"
     ]
    }
   ],
   "source": [
    "#as per the ques, A[2][3] and B[3][4]\n",
    "# A Matrix [2][3]\n",
    "A = [[12, 7, 3],\n",
    "    [4, 5, 6]]\n",
    " \n",
    "print(\"A matrix is \",A)\n",
    "    \n",
    "# take a B[3][4] matrix   \n",
    "B = [[5, 8,5,4],\n",
    "    [6, 7,8,4],\n",
    "    [4, 5,2,8]]\n",
    "\n",
    "print(\"B matrix is \",B)\n",
    "\n",
    "#Result will be [2][4]\n",
    "result = [[0, 0, 0, 0],\n",
    "        [0, 0, 0, 0]]\n",
    "     \n",
    "# iterating by row of A\n",
    "for i in range(len(A)):\n",
    " \n",
    "    # iterating by column by B\n",
    "    for j in range(len(B[0])):\n",
    " \n",
    "        # iterating by rows of B\n",
    "        for k in range(len(B)):\n",
    "            result[i][j] += A[i][k] * B[k][j]\n",
    "            \n",
    "print(\"Matrix Multiplication is \") \n",
    "for r in result:\n",
    "    print(r)"
   ]
  },
  {
   "cell_type": "code",
   "execution_count": 10,
   "metadata": {},
   "outputs": [
    {
     "data": {
      "image/png": "[encoded data removed]",
      "text/plain": [
       "<Figure size 432x288 with 1 Axes>"
      ]
     },
     "metadata": {
      "needs_background": "light"
     },
     "output_type": "display_data"
    }
   ],
   "source": [
    "import numpy as np\n",
    "from matplotlib import pyplot as plt\n",
    "x=np.arange(-10,10) #range given in the ques\n",
    "y= (3*x) + 2 #provide values of y as 3x + 2\n",
    "plt.plot(x,y) #use to plot x and y \n",
    "plt.title(\"Line Plot\") #to give title of the plot\n",
    "plt.xlabel(\"x-label\") #to give x label to plot\n",
    "plt.ylabel(\"y-label\") #to give y label to plot\n",
    "plt.show() #use to show to plot between x and y "
   ]
  }
 ],
 "metadata": {
  "kernelspec": {
   "display_name": "Python 3",
   "language": "python",
   "name": "python3"
  },
  "language_info": {
   "codemirror_mode": {
    "name": "ipython",
    "version": 3
   },
   "file_extension": ".py",
   "mimetype": "text/x-python",
   "name": "python",
   "nbconvert_exporter": "python",
   "pygments_lexer": "ipython3",
   "version": "3.8.3"
  }
 },
 "nbformat": 4,
 "nbformat_minor": 4
}
